{
 "cells": [
  {
   "cell_type": "code",
   "execution_count": 9,
   "metadata": {},
   "outputs": [],
   "source": [
    "#importing libraries\n",
    "\n",
    "import numpy as np"
   ]
  },
  {
   "cell_type": "code",
   "execution_count": 10,
   "metadata": {},
   "outputs": [],
   "source": [
    "import plotly.offline as pyo\n",
    "import plotly.graph_objs as go"
   ]
  },
  {
   "cell_type": "code",
   "execution_count": 11,
   "metadata": {},
   "outputs": [],
   "source": [
    "#To create same random numbers\n",
    "\n",
    "np.random.seed(42)"
   ]
  },
  {
   "cell_type": "code",
   "execution_count": 12,
   "metadata": {},
   "outputs": [],
   "source": [
    "random_x = np.random.randint(1,101,100)\n",
    "random_y = np.random.randint(1,101,100)"
   ]
  },
  {
   "cell_type": "markdown",
   "metadata": {},
   "source": [
    "# Scatter Plot"
   ]
  },
  {
   "cell_type": "code",
   "execution_count": 22,
   "metadata": {},
   "outputs": [
    {
     "data": {
      "text/plain": [
       "'file://C:\\\\Users\\\\Acer\\\\Documents\\\\Projects\\\\complete-python3-introduction\\\\plotly.html'"
      ]
     },
     "execution_count": 22,
     "metadata": {},
     "output_type": "execute_result"
    }
   ],
   "source": [
    "data = [go.Scatter(x=random_x,y=random_y,mode='markers',marker=dict(size=15,color='orange'))]\n",
    "layout = go.Layout(title='My First plotly Graph',xaxis=dict(title='X axis'),yaxis=dict(title='Y axis'),hovermode='closest')\n",
    "\n",
    "fig = go.Figure(data=data,layout=layout)\n",
    "\n",
    "pyo.plot(fig,filename='plotly.html')"
   ]
  },
  {
   "cell_type": "markdown",
   "metadata": {},
   "source": [
    "# Line Plot"
   ]
  },
  {
   "cell_type": "code",
   "execution_count": 36,
   "metadata": {},
   "outputs": [],
   "source": [
    "# creating the dataset\n",
    "\n",
    "np.random.seed(64)\n",
    "random_x = np.linspace(0,1,100)\n",
    "random_y = np.random.randn(100)"
   ]
  },
  {
   "cell_type": "code",
   "execution_count": 37,
   "metadata": {},
   "outputs": [],
   "source": [
    "trace  = go.Scatter(x=random_x,y=random_y,mode='lines',name='myline')"
   ]
  },
  {
   "cell_type": "code",
   "execution_count": 38,
   "metadata": {},
   "outputs": [
    {
     "data": {
      "text/plain": [
       "'file://C:\\\\Users\\\\Acer\\\\Documents\\\\Projects\\\\complete-python3-introduction\\\\plotly.html'"
      ]
     },
     "execution_count": 38,
     "metadata": {},
     "output_type": "execute_result"
    }
   ],
   "source": [
    "data = [trace]\n",
    "layout = go.Layout(title='My Line Chart',xaxis=dict(title='X axis'),yaxis=dict(title='Y axis'))\n",
    "\n",
    "fig = go.Figure(data,layout)\n",
    "\n",
    "pyo.plot(fig,filename='plotly.html')"
   ]
  },
  {
   "cell_type": "code",
   "execution_count": null,
   "metadata": {},
   "outputs": [],
   "source": []
  },
  {
   "cell_type": "code",
   "execution_count": 40,
   "metadata": {},
   "outputs": [
    {
     "data": {
      "text/plain": [
       "'file://C:\\\\Users\\\\Acer\\\\Documents\\\\Projects\\\\complete-python3-introduction\\\\plotly.html'"
      ]
     },
     "execution_count": 40,
     "metadata": {},
     "output_type": "execute_result"
    }
   ],
   "source": [
    "# Combining multiple line plots\n",
    "\n",
    "trace1= go.Scatter(x=random_x,y=random_y,mode='lines',name='line 1')\n",
    "trace2 = go.Scatter(x=random_x,y=random_y+5,mode='lines',name='line 2')\n",
    "trace3 = go.Scatter(x=random_x,y=random_y-5,mode='lines',name='line 3')\n",
    "\n",
    "data = [trace1,trace2,trace3]\n",
    "layout = go.Layout(title='Multiple Line Chart',xaxis=dict(title='X axis'),yaxis=dict(title='Y axis'))\n",
    "\n",
    "fig = go.Figure(data,layout)\n",
    "\n",
    "pyo.plot(fig,filename='plotly.html')"
   ]
  },
  {
   "cell_type": "code",
   "execution_count": null,
   "metadata": {},
   "outputs": [],
   "source": []
  },
  {
   "cell_type": "code",
   "execution_count": 46,
   "metadata": {},
   "outputs": [
    {
     "data": {
      "text/plain": [
       "'file://C:\\\\Users\\\\Acer\\\\Documents\\\\Projects\\\\complete-python3-introduction\\\\plotly.html'"
      ]
     },
     "execution_count": 46,
     "metadata": {},
     "output_type": "execute_result"
    }
   ],
   "source": [
    "#Combining line and scatter plot\n",
    "scatter_y = np.random.randn(100)\n",
    "\n",
    "trace1 = go.Scatter(x=random_x,y=scatter_y,mode='markers',name='my markers',marker=dict(size=10,color='purple'))\n",
    "trace2 = go.Scatter(x=random_x,y=random_y,mode='lines',name='my lines')\n",
    "\n",
    "data = [trace1,trace2]\n",
    "\n",
    "layout = go.Layout(title='Scatter-Line Plot',xaxis = dict(title='X axis'),yaxis=dict(title='Y axis'))\n",
    "\n",
    "fig = go.Figure(data,layout)\n",
    "\n",
    "pyo.plot(fig,filename='plotly.html')"
   ]
  },
  {
   "cell_type": "code",
   "execution_count": null,
   "metadata": {},
   "outputs": [],
   "source": []
  }
 ],
 "metadata": {
  "kernelspec": {
   "display_name": "Python 3",
   "language": "python",
   "name": "python3"
  },
  "language_info": {
   "codemirror_mode": {
    "name": "ipython",
    "version": 3
   },
   "file_extension": ".py",
   "mimetype": "text/x-python",
   "name": "python",
   "nbconvert_exporter": "python",
   "pygments_lexer": "ipython3",
   "version": "3.7.0"
  }
 },
 "nbformat": 4,
 "nbformat_minor": 2
}
