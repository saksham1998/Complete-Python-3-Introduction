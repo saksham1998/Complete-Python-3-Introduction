{
 "cells": [
  {
   "cell_type": "code",
   "execution_count": 1,
   "metadata": {},
   "outputs": [],
   "source": [
    "#Error Handling means handling the errors occured in the program in such a way that it won't stop the execution of the program..\n",
    "    \n",
    "#try,except,else,finally\n",
    "\n",
    "\n",
    "#try:try statement tries the given block of code.\n",
    "#except: except block will be executed when try block finds an error in the code\n",
    "#else: else block will be executed when their is no error found in try block.\n",
    "#finally: finally statement will always run,no matter their is an error or not.\n",
    "\n",
    "\n",
    "    "
   ]
  },
  {
   "cell_type": "raw",
   "metadata": {},
   "source": [
    "try:\n",
    "   You do your operations here...\n",
    "   ...\n",
    "except ExceptionI:\n",
    "   If there is ExceptionI, then execute this block.\n",
    "except ExceptionII:\n",
    "   If there is ExceptionII, then execute this block.\n",
    "   ...\n",
    "else:\n",
    "   If there is no exception then execute this block."
   ]
  },
  {
   "cell_type": "code",
   "execution_count": 2,
   "metadata": {},
   "outputs": [
    {
     "name": "stdout",
     "output_type": "stream",
     "text": [
      "their is an error\n",
      "I'll always run\n"
     ]
    }
   ],
   "source": [
    "#Example 1\n",
    "try:\n",
    "    x = 'hello'+ 2\n",
    "except:\n",
    "    print('their is an error')\n",
    "else:\n",
    "    print('Operation ran successfully')\n",
    "finally:\n",
    "    print('I\\'ll always run')"
   ]
  },
  {
   "cell_type": "code",
   "execution_count": 3,
   "metadata": {},
   "outputs": [
    {
     "name": "stdout",
     "output_type": "stream",
     "text": [
      "Success!\n"
     ]
    }
   ],
   "source": [
    "#Example 2\n",
    "try:\n",
    "    f = open('testfile','w')\n",
    "    f.write('Test write this')\n",
    "except:\n",
    "    print('Their is an error')\n",
    "else:\n",
    "    print('Success!')"
   ]
  },
  {
   "cell_type": "code",
   "execution_count": 4,
   "metadata": {},
   "outputs": [
    {
     "name": "stdout",
     "output_type": "stream",
     "text": [
      "Please Enter a number:4\n",
      "Thank You\n",
      "Woooh!!!!!\n"
     ]
    }
   ],
   "source": [
    "#Example 3\n",
    "try:\n",
    "    value = int(input('Please Enter a number:'))\n",
    "except:\n",
    "    print('Enter number only.........')\n",
    "else:\n",
    "    print('Thank You')\n",
    "finally:\n",
    "    print('Woooh!!!!!')\n",
    "    "
   ]
  },
  {
   "cell_type": "code",
   "execution_count": 5,
   "metadata": {},
   "outputs": [
    {
     "name": "stdout",
     "output_type": "stream",
     "text": [
      "Please enter a number:n\n",
      "Enter number only..\n",
      "I'll run everytime\n",
      "Please enter a number:sorry\n",
      "Enter number only..\n",
      "I'll run everytime\n",
      "Please enter a number:3\n",
      "Thank you\n",
      "I'll run everytime\n"
     ]
    }
   ],
   "source": [
    "#using while loop \n",
    "\n",
    "while True:\n",
    "    try:\n",
    "        value = int(input('Please enter a number:'))\n",
    "    except:\n",
    "        print('Enter number only..')\n",
    "        continue\n",
    "    else:\n",
    "        print('Thank you')\n",
    "        break\n",
    "    finally:\n",
    "        print('I\\'ll run everytime')"
   ]
  },
  {
   "cell_type": "code",
   "execution_count": 7,
   "metadata": {},
   "outputs": [
    {
     "name": "stdout",
     "output_type": "stream",
     "text": [
      "Wrong operation\n"
     ]
    }
   ],
   "source": [
    "#Some practise questions:\n",
    "\n",
    "#Ques 1:\n",
    "#Handle the exception thrown by the code below by using try and except blocks.\n",
    "#for i in ['a','b','c']:\n",
    "#    print(i**2)\n",
    "\n",
    "\n",
    "try:\n",
    "    for i in['a','b','c']:\n",
    "        print(i**2)\n",
    "except:\n",
    "    print('Wrong operation')"
   ]
  },
  {
   "cell_type": "code",
   "execution_count": 8,
   "metadata": {},
   "outputs": [
    {
     "name": "stdout",
     "output_type": "stream",
     "text": [
      "you can't divide a number with 0\n",
      "All done\n"
     ]
    }
   ],
   "source": [
    "#Ques 2:\n",
    "#Handle the exception thrown by the code below by using try and except blocks. Then use a finally block to print 'All Done.'\n",
    "x = 5\n",
    "y = 0\n",
    "\n",
    "try:\n",
    "    z = x/y\n",
    "except:\n",
    "    print('you can\\'t divide a number with 0')\n",
    "finally:\n",
    "    print('All done')"
   ]
  },
  {
   "cell_type": "code",
   "execution_count": 18,
   "metadata": {},
   "outputs": [
    {
     "name": "stdout",
     "output_type": "stream",
     "text": [
      "Please enter a number:sum\n",
      "Please Enter a number..............\n",
      "Please enter a number:4\n",
      "16\n"
     ]
    }
   ],
   "source": [
    "#Ques 3:\n",
    "#Write a function that asks for an integer and prints the square of it. Use a while loop with a try, except, else block to account for incorrect inputs.\n",
    "\n",
    "def ask():\n",
    "    while True:\n",
    "        try :\n",
    "            num = int(input('Please enter a number:'))\n",
    "            print(num**2)\n",
    "        except:\n",
    "            print('Please Enter a number..............')\n",
    "            continue\n",
    "        else:\n",
    "            break\n",
    "ask()        "
   ]
  },
  {
   "cell_type": "code",
   "execution_count": null,
   "metadata": {},
   "outputs": [],
   "source": []
  }
 ],
 "metadata": {
  "kernelspec": {
   "display_name": "Python 3",
   "language": "python",
   "name": "python3"
  },
  "language_info": {
   "codemirror_mode": {
    "name": "ipython",
    "version": 3
   },
   "file_extension": ".py",
   "mimetype": "text/x-python",
   "name": "python",
   "nbconvert_exporter": "python",
   "pygments_lexer": "ipython3",
   "version": "3.7.0"
  }
 },
 "nbformat": 4,
 "nbformat_minor": 2
}
