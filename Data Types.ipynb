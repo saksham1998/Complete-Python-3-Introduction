{
 "cells": [
  {
   "cell_type": "markdown",
   "metadata": {},
   "source": [
    "Python is dynamically typed i.e one variable can be used for multiple data types. Ex: name ='saksham' name = 2_____is correct.\n",
    "Python data types : Numbers(Integer,Float),Strings,List(Arrays),Dictionaries(Objects),Tuples,Boolens(True,False),Sets.\n",
    "Python uses indentation(spaces) rather than brackets.\n"
   ]
  },
  {
   "cell_type": "markdown",
   "metadata": {},
   "source": [
    "# Numbers\n"
   ]
  },
  {
   "cell_type": "code",
   "execution_count": 1,
   "metadata": {},
   "outputs": [
    {
     "data": {
      "text/plain": [
       "4"
      ]
     },
     "execution_count": 1,
     "metadata": {},
     "output_type": "execute_result"
    }
   ],
   "source": [
    "#Addition\n",
    "2+2"
   ]
  },
  {
   "cell_type": "code",
   "execution_count": 2,
   "metadata": {},
   "outputs": [
    {
     "data": {
      "text/plain": [
       "8"
      ]
     },
     "execution_count": 2,
     "metadata": {},
     "output_type": "execute_result"
    }
   ],
   "source": [
    "#Subtraction\n",
    "10-2"
   ]
  },
  {
   "cell_type": "code",
   "execution_count": 7,
   "metadata": {},
   "outputs": [
    {
     "data": {
      "text/plain": [
       "20"
      ]
     },
     "execution_count": 7,
     "metadata": {},
     "output_type": "execute_result"
    }
   ],
   "source": [
    "#Multiplication\n",
    "4*5"
   ]
  },
  {
   "cell_type": "code",
   "execution_count": 9,
   "metadata": {},
   "outputs": [
    {
     "data": {
      "text/plain": [
       "5.0"
      ]
     },
     "execution_count": 9,
     "metadata": {},
     "output_type": "execute_result"
    }
   ],
   "source": [
    "#Division\n",
    "10/2\n",
    "#Answer will always be float"
   ]
  },
  {
   "cell_type": "code",
   "execution_count": 12,
   "metadata": {},
   "outputs": [
    {
     "data": {
      "text/plain": [
       "5.0"
      ]
     },
     "execution_count": 12,
     "metadata": {},
     "output_type": "execute_result"
    }
   ],
   "source": [
    "15/3"
   ]
  },
  {
   "cell_type": "code",
   "execution_count": 13,
   "metadata": {},
   "outputs": [
    {
     "data": {
      "text/plain": [
       "1"
      ]
     },
     "execution_count": 13,
     "metadata": {},
     "output_type": "execute_result"
    }
   ],
   "source": [
    "#Modulas\n",
    "10%3\n"
   ]
  },
  {
   "cell_type": "code",
   "execution_count": 14,
   "metadata": {},
   "outputs": [
    {
     "data": {
      "text/plain": [
       "4"
      ]
     },
     "execution_count": 14,
     "metadata": {},
     "output_type": "execute_result"
    }
   ],
   "source": [
    "#Power \n",
    "2**2"
   ]
  },
  {
   "cell_type": "code",
   "execution_count": 15,
   "metadata": {},
   "outputs": [
    {
     "name": "stdout",
     "output_type": "stream",
     "text": [
      "38\n",
      "42\n"
     ]
    }
   ],
   "source": [
    "#Priority\n",
    "print(2+10*3+6)\n",
    "print((2+10)*3+6)"
   ]
  },
  {
   "cell_type": "markdown",
   "metadata": {},
   "source": [
    "# Strings\n"
   ]
  },
  {
   "cell_type": "code",
   "execution_count": 17,
   "metadata": {},
   "outputs": [
    {
     "data": {
      "text/plain": [
       "'hello'"
      ]
     },
     "execution_count": 17,
     "metadata": {},
     "output_type": "execute_result"
    }
   ],
   "source": [
    "'hello'"
   ]
  },
  {
   "cell_type": "code",
   "execution_count": 18,
   "metadata": {},
   "outputs": [
    {
     "data": {
      "text/plain": [
       "'helloworld'"
      ]
     },
     "execution_count": 18,
     "metadata": {},
     "output_type": "execute_result"
    }
   ],
   "source": [
    "'hello'+'world'"
   ]
  },
  {
   "cell_type": "code",
   "execution_count": 19,
   "metadata": {},
   "outputs": [
    {
     "data": {
      "text/plain": [
       "'hello world'"
      ]
     },
     "execution_count": 19,
     "metadata": {},
     "output_type": "execute_result"
    }
   ],
   "source": [
    "'hello'+' ' +'world'"
   ]
  },
  {
   "cell_type": "code",
   "execution_count": 20,
   "metadata": {},
   "outputs": [
    {
     "data": {
      "text/plain": [
       "\"I'm going for a run\""
      ]
     },
     "execution_count": 20,
     "metadata": {},
     "output_type": "execute_result"
    }
   ],
   "source": [
    "\"I'm going for a run\""
   ]
  },
  {
   "cell_type": "code",
   "execution_count": 21,
   "metadata": {},
   "outputs": [
    {
     "data": {
      "text/plain": [
       "\"I'm going for a run\""
      ]
     },
     "execution_count": 21,
     "metadata": {},
     "output_type": "execute_result"
    }
   ],
   "source": [
    "'I\\'m going for a run'"
   ]
  },
  {
   "cell_type": "code",
   "execution_count": 23,
   "metadata": {},
   "outputs": [
    {
     "name": "stdout",
     "output_type": "stream",
     "text": [
      "hello world\n",
      "hello\n",
      " world\n",
      "hello\t world\n",
      "hello\b world\n"
     ]
    }
   ],
   "source": [
    "print('hello world')\n",
    "print('hello\\n world')\n",
    "print('hello\\t world')\n",
    "print('hello\\b world')"
   ]
  },
  {
   "cell_type": "code",
   "execution_count": 27,
   "metadata": {},
   "outputs": [
    {
     "data": {
      "text/plain": [
       "18"
      ]
     },
     "execution_count": 27,
     "metadata": {},
     "output_type": "execute_result"
    }
   ],
   "source": [
    "#length of a string\n",
    "len('My name is saksham')\n",
    "#It also counts space "
   ]
  },
  {
   "cell_type": "code",
   "execution_count": 28,
   "metadata": {},
   "outputs": [],
   "source": [
    "#Indexing and Slicing of the string"
   ]
  },
  {
   "cell_type": "code",
   "execution_count": 29,
   "metadata": {},
   "outputs": [],
   "source": [
    "#Indexing\n",
    "my_name = 'saksham'"
   ]
  },
  {
   "cell_type": "code",
   "execution_count": 30,
   "metadata": {},
   "outputs": [
    {
     "data": {
      "text/plain": [
       "'saksham'"
      ]
     },
     "execution_count": 30,
     "metadata": {},
     "output_type": "execute_result"
    }
   ],
   "source": [
    "my_name"
   ]
  },
  {
   "cell_type": "code",
   "execution_count": 36,
   "metadata": {},
   "outputs": [
    {
     "name": "stdout",
     "output_type": "stream",
     "text": [
      "s\n",
      "a\n"
     ]
    }
   ],
   "source": [
    "#Indexing starts with 0 upto (length-1)\n",
    "print(my_name[0])\n",
    "print(my_name[5])"
   ]
  },
  {
   "cell_type": "code",
   "execution_count": 40,
   "metadata": {},
   "outputs": [
    {
     "name": "stdout",
     "output_type": "stream",
     "text": [
      "m\n",
      "m\n",
      "h\n"
     ]
    }
   ],
   "source": [
    "#For getting last word in a string\n",
    "\n",
    "#Old Way\n",
    "print(my_name[len(my_name)-1])\n",
    "\n",
    "#Popular Way\n",
    "print(my_name[-1])\n",
    "    #Want Third Last Word in a string\n",
    "print(my_name[-3])"
   ]
  },
  {
   "cell_type": "code",
   "execution_count": 41,
   "metadata": {},
   "outputs": [],
   "source": [
    "#Slicing"
   ]
  },
  {
   "cell_type": "code",
   "execution_count": 47,
   "metadata": {},
   "outputs": [
    {
     "name": "stdout",
     "output_type": "stream",
     "text": [
      "abcdefghi\n",
      "cdefgh\n",
      "acegi\n",
      "kjihgfedcba\n"
     ]
    }
   ],
   "source": [
    "#Pattern\n",
    "\n",
    "#string[starting point:end point(upto):step size]\n",
    "#Note : end point is upto i.e not included in the output \n",
    "\n",
    "my_string = 'abcdefghijk'\n",
    "print(my_string[0:9:1])#Starting from 1st position upto 9th\n",
    "print(my_string[2:8:1])#Starting from 3rd position upto 8th\n",
    "print(my_string[0:len(my_string)-1:2])#Step size means skipping i.e 1:no skip,2:skip letter\n",
    "\n",
    "#To Reverse a string\n",
    "print(my_string[::-1])"
   ]
  },
  {
   "cell_type": "code",
   "execution_count": 48,
   "metadata": {},
   "outputs": [
    {
     "ename": "TypeError",
     "evalue": "'str' object does not support item assignment",
     "output_type": "error",
     "traceback": [
      "\u001b[1;31m---------------------------------------------------------------------------\u001b[0m",
      "\u001b[1;31mTypeError\u001b[0m                                 Traceback (most recent call last)",
      "\u001b[1;32m<ipython-input-48-176d614eef9a>\u001b[0m in \u001b[0;36m<module>\u001b[1;34m()\u001b[0m\n\u001b[0;32m      2\u001b[0m \u001b[1;31m#For Ex:\u001b[0m\u001b[1;33m\u001b[0m\u001b[1;33m\u001b[0m\u001b[0m\n\u001b[0;32m      3\u001b[0m \u001b[0mmy_name\u001b[0m \u001b[1;33m=\u001b[0m \u001b[1;34m'saksham'\u001b[0m\u001b[1;33m\u001b[0m\u001b[0m\n\u001b[1;32m----> 4\u001b[1;33m \u001b[0mmy_name\u001b[0m\u001b[1;33m[\u001b[0m\u001b[1;36m0\u001b[0m\u001b[1;33m]\u001b[0m \u001b[1;33m=\u001b[0m \u001b[1;34m'm'\u001b[0m \u001b[1;31m# It will produce an error\u001b[0m\u001b[1;33m\u001b[0m\u001b[0m\n\u001b[0m",
      "\u001b[1;31mTypeError\u001b[0m: 'str' object does not support item assignment"
     ]
    }
   ],
   "source": [
    "#Note : String are immutable i.e individual letters of a string can't be changed\n",
    "#For Ex:\n",
    "my_name = 'saksham'\n",
    "my_name[0] = 'm' # It will produce an error"
   ]
  },
  {
   "cell_type": "code",
   "execution_count": 1,
   "metadata": {},
   "outputs": [
    {
     "name": "stdout",
     "output_type": "stream",
     "text": [
      "5\n",
      "23\n"
     ]
    }
   ],
   "source": [
    "#Concatenation & Addition\n",
    "\n",
    "print(2+3) #Addition\n",
    "print('2'+'3') #Concatenation\n"
   ]
  },
  {
   "cell_type": "code",
   "execution_count": 25,
   "metadata": {},
   "outputs": [
    {
     "name": "stdout",
     "output_type": "stream",
     "text": [
      "SAKSHAM\n",
      "saksham\n",
      "Saksham\n",
      "['saksham', 'manocha']\n",
      "['', 'ak', 'ham manocha']\n",
      "['s', 'ksh', 'm m', 'noch', '']\n",
      "0\n",
      "11\n"
     ]
    },
    {
     "data": {
      "text/plain": [
       "'sgkshgm mgnochg'"
      ]
     },
     "execution_count": 25,
     "metadata": {},
     "output_type": "execute_result"
    }
   ],
   "source": [
    "#Inbuilt Methods\n",
    "\n",
    "my_name = 'saksham'\n",
    "print(my_name.upper()) \n",
    "print(my_name.lower()) \n",
    "print(my_name.capitalize())\n",
    "\n",
    "my_name = 'saksham manocha'\n",
    "print(my_name.split())\n",
    "print(my_name.split('s'))\n",
    "print(my_name.split('a'))\n",
    "\n",
    "print(my_name.find('s'))#Will Find first occurence of the given word\n",
    "print(my_name.find('o'))\n",
    "\n",
    "my_name.replace('a','g')#Will replace every occurence of a with g\n",
    "\n",
    "#Note: These all method does not change the actual value of 'my_name'.If you want to change the value of 'my_name',you have to initialize it.\n"
   ]
  },
  {
   "cell_type": "code",
   "execution_count": 44,
   "metadata": {},
   "outputs": [
    {
     "name": "stdout",
     "output_type": "stream",
     "text": [
      "Hello saksham\n",
      "This is an example of String Interpoliation\n",
      "hello saksham . How are you doing\n",
      "the fox brown quick\n",
      "the quick brown fox\n",
      "the number is 8.333333333333334\n",
      "the number is 8.33\n",
      "the number is       8.33\n",
      "my name is saksham and I am 20 years old\n",
      "20202020\n"
     ]
    }
   ],
   "source": [
    "#String Interpoliation\n",
    "\n",
    "my_name = 'saksham'\n",
    "print('Hello '+ my_name)\n",
    "\n",
    "#1. Format Method\n",
    "\n",
    "print('This is an example of {}'.format('String Interpoliation'))\n",
    "print('hello {} . How {} you {}'.format('saksham','are','doing'))\n",
    "\n",
    "print('the {2} {1} {0}'.format('quick','brown','fox'))\n",
    "#OR\n",
    "print('the {q} {b} {f}'.format(q='quick',b='brown',f= 'fox'))\n",
    "\n",
    "\n",
    "\n",
    "#Format method for the numbers.........\n",
    "\n",
    "num = 100/12\n",
    "\n",
    "print('the number is {}'.format(num))\n",
    "# for better precision\n",
    "\n",
    "#                    {value:width.precision f}\n",
    "print('the number is {n:1.2f}'.format(n=num))\n",
    "print('the number is {n:10.2f}'.format(n=num))\n",
    "\n",
    "\n",
    "#2. f string method\n",
    "\n",
    "my_name = 'saksham'\n",
    "age = 20\n",
    "print(f'my name is {my_name} and I am {age} years old')\n",
    "print(f'{age}{age}{age}{age}')"
   ]
  },
  {
   "cell_type": "markdown",
   "metadata": {},
   "source": [
    "# Lists"
   ]
  },
  {
   "cell_type": "code",
   "execution_count": 81,
   "metadata": {},
   "outputs": [
    {
     "name": "stdout",
     "output_type": "stream",
     "text": [
      "3\n",
      "saksham\n",
      "20\n",
      "Saksham\n",
      "['manocha', 'first', 'third', 'fifth']\n",
      "['fifth', 'fourth', 'third', 'second', 'first', '20', 'manocha', 'Saksham']\n",
      "['a', 'b', 'd', 'f', 'g', 'm', 'z']\n",
      "['z', 'm', 'g', 'f', 'd', 'b', 'a']\n",
      "[1, 2, 3, 5, 8, 9, 12]\n",
      "[12, 9, 8, 5, 3, 2, 1]\n"
     ]
    }
   ],
   "source": [
    "my_list = ['saksham','manocha',20]\n",
    "\n",
    "print(len(my_list))\n",
    "print(my_list[0])\n",
    "print(my_list[-1])#For getting last element in the list\n",
    "\n",
    "#Note=>List are mutable i.e they can be changed\n",
    "\n",
    "my_list[0] = 'Saksham'\n",
    "print(my_list[0])\n",
    "\n",
    "#Methods\n",
    "my_list.pop()#Remove the element. If no value is passed ,it will remove the last element of the array\n",
    "my_list.append('20')\n",
    "\n",
    "\n",
    "new_list = ['first','second','third','fourth','fifth']\n",
    "my_list = my_list + new_list\n",
    "\n",
    "\n",
    "print(my_list[1:8:2])\n",
    "print(my_list[::-1])#Reverse the array\n",
    "\n",
    "#Sorting & Reversing\n",
    "my_list = ['a','m','d','g','b','z','f']\n",
    "my_list.sort()#It does'nt return anything\n",
    "print(my_list)\n",
    "my_list.reverse()\n",
    "print(my_list)\n",
    "\n",
    "my_num_list = [1,5,2,8,3,9,12]\n",
    "my_num_list.sort()\n",
    "print(my_num_list)\n",
    "my_num_list.reverse()\n",
    "print(my_num_list)"
   ]
  },
  {
   "cell_type": "markdown",
   "metadata": {},
   "source": [
    "# Dictionaries"
   ]
  },
  {
   "cell_type": "code",
   "execution_count": 93,
   "metadata": {},
   "outputs": [
    {
     "name": "stdout",
     "output_type": "stream",
     "text": [
      "value3\n",
      "value4\n",
      "saksham\n",
      "football\n",
      "B Tech\n",
      "dict_keys(['name', 'age', 'hobbies', 'more'])\n",
      "dict_values(['saksham', 20, ['coding', 'video games', 'football'], {'college': 'NIEC', 'degree': 'B Tech'}])\n",
      "dict_items([('name', 'saksham'), ('age', 20), ('hobbies', ['coding', 'video games', 'football']), ('more', {'college': 'NIEC', 'degree': 'B Tech'})])\n"
     ]
    }
   ],
   "source": [
    "\n",
    "my_dict = {'key1':'value1','key2':'value2','key3':'value3'}\n",
    "print(my_dict['key3'])\n",
    "\n",
    "#They are mutable \n",
    "my_dict['key3'] = 'value4'\n",
    "print(my_dict['key3'])\n",
    "\n",
    "my_dict = {'name':'saksham','age':20,'hobbies':['coding','video games','football'],'more':{'college':'NIEC','degree':'B Tech'}}\n",
    "\n",
    "print(my_dict['name'])\n",
    "print(my_dict['hobbies'][2])\n",
    "print(my_dict['more']['degree'])\n",
    "\n",
    "#To get All the keys\n",
    "print(my_dict.keys())\n",
    "#To get All the values\n",
    "print(my_dict.values())\n",
    "#To get All the items\n",
    "print(my_dict.items()) #It gives out tuples"
   ]
  },
  {
   "cell_type": "markdown",
   "metadata": {},
   "source": [
    "# Tuples"
   ]
  },
  {
   "cell_type": "code",
   "execution_count": 101,
   "metadata": {},
   "outputs": [
    {
     "name": "stdout",
     "output_type": "stream",
     "text": [
      "20\n",
      "3\n",
      "2\n"
     ]
    }
   ],
   "source": [
    "#Tuples are very similiar to lists but they are imutable and uses paranthesis \n",
    "\n",
    "my_tuple = ('saksham','manocha',20)\n",
    "print(my_tuple[2])\n",
    "# my_tuple.append('hello') Note => Tuples can't be changed,no new element can be added or removed\n",
    "\n",
    "#Methods\n",
    "my_tuple = (1,1,2,3,1,5,2,4)\n",
    "print(my_tuple.count(1)) # Will give total number of times a number appers in tuple\n",
    "print(my_tuple.index(2)) # Will give the first occurence of the number given in the tuple\n"
   ]
  },
  {
   "cell_type": "markdown",
   "metadata": {},
   "source": [
    "# Sets"
   ]
  },
  {
   "cell_type": "code",
   "execution_count": 106,
   "metadata": {},
   "outputs": [
    {
     "name": "stdout",
     "output_type": "stream",
     "text": [
      "{1, 2}\n"
     ]
    },
    {
     "data": {
      "text/plain": [
       "{1, 2, 3, 4, 5, 6, 11}"
      ]
     },
     "execution_count": 106,
     "metadata": {},
     "output_type": "execute_result"
    }
   ],
   "source": [
    "#Sets are immutable and every element in sets must be unique\n",
    "\n",
    "my_set = set()\n",
    "my_set.add(1)\n",
    "my_set.add(2)\n",
    "my_set.add(1)\n",
    "print(my_set)\n",
    "\n",
    "my_arr = [11,1,1,1,2,3,2,2,3,4,5,6,4,5]\n",
    "\n",
    "set(my_arr)"
   ]
  },
  {
   "cell_type": "markdown",
   "metadata": {},
   "source": [
    "# Boolens"
   ]
  },
  {
   "cell_type": "code",
   "execution_count": 108,
   "metadata": {},
   "outputs": [
    {
     "name": "stdout",
     "output_type": "stream",
     "text": [
      "True\n",
      "True\n",
      "False\n"
     ]
    }
   ],
   "source": [
    "print(1<2)\n",
    "print(2==2)\n",
    "print(17<3)\n"
   ]
  }
 ],
 "metadata": {
  "kernelspec": {
   "display_name": "Python 3",
   "language": "python",
   "name": "python3"
  },
  "language_info": {
   "codemirror_mode": {
    "name": "ipython",
    "version": 3
   },
   "file_extension": ".py",
   "mimetype": "text/x-python",
   "name": "python",
   "nbconvert_exporter": "python",
   "pygments_lexer": "ipython3",
   "version": "3.7.0"
  }
 },
 "nbformat": 4,
 "nbformat_minor": 2
}
